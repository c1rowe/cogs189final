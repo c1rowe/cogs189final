{
 "cells": [
  {
   "cell_type": "markdown",
   "metadata": {},
   "source": [
    "## GroupWithNoName EEG Data Processing"
   ]
  },
  {
   "cell_type": "markdown",
   "metadata": {},
   "source": [
    "### Event Codes\n",
    "33024 - Universal for key release <br>\n",
    "33025 - a (start) key press <br>\n",
    "33027 - e (waldo found) key press"
   ]
  },
  {
   "cell_type": "markdown",
   "metadata": {},
   "source": [
    "### Imports"
   ]
  },
  {
   "cell_type": "code",
   "execution_count": 157,
   "metadata": {},
   "outputs": [],
   "source": [
    "import pandas as pd\n",
    "import numpy as np"
   ]
  },
  {
   "cell_type": "markdown",
   "metadata": {},
   "source": [
    "### Helper Functions"
   ]
  },
  {
   "cell_type": "code",
   "execution_count": 227,
   "metadata": {},
   "outputs": [],
   "source": [
    "#\n",
    "# Cleans a given raw openvibe dataframe\n",
    "#\n",
    "def clean_trial(trial):\n",
    "    \n",
    "    #drop unwanted column\n",
    "    trial = trial.drop(columns=['Event Duration'])\n",
    "    \n",
    "    #remove nans and key releases\n",
    "    trial.loc[trial['Event Id'] == 33024,  'Event Id'] = 0\n",
    "    trial.loc[trial['Event Id'].isnull(),  'Event Id'] = 0\n",
    "    trial.loc[trial['Event Date'].isnull(), 'Event Date'] = 0\n",
    "    \n",
    "    #shift df to start on start key press\n",
    "    start_index = trial.index[trial['Event Id'] == 33025]\n",
    "    trial = trial[(start_index[0]+1):].reset_index()\n",
    "    trial = trial.drop(columns=['index'])\n",
    "    \n",
    "    #reset epochs and time to begin at 0\n",
    "    trial['Epoch']-=trial['Epoch'][0]\n",
    "    trial['Time:512Hz']-=trial['Time:512Hz'][0]\n",
    "    \n",
    "    return trial"
   ]
  },
  {
   "cell_type": "code",
   "execution_count": 228,
   "metadata": {},
   "outputs": [],
   "source": [
    "#\n",
    "# Reads and cleans the csv file at the given filepath\n",
    "#\n",
    "def processcsv(filename):\n",
    "    raw = pd.read_csv('cece_trial.csv')\n",
    "    clean = clean_trial(raw)\n",
    "    return clean"
   ]
  },
  {
   "cell_type": "markdown",
   "metadata": {},
   "source": [
    "### Testing"
   ]
  },
  {
   "cell_type": "code",
   "execution_count": 229,
   "metadata": {},
   "outputs": [],
   "source": [
    "#read cece's trial\n",
    "cece_trial = processcsv('cece_trial.csv')"
   ]
  },
  {
   "cell_type": "code",
   "execution_count": 235,
   "metadata": {},
   "outputs": [
    {
     "data": {
      "text/html": [
       "<div>\n",
       "<style scoped>\n",
       "    .dataframe tbody tr th:only-of-type {\n",
       "        vertical-align: middle;\n",
       "    }\n",
       "\n",
       "    .dataframe tbody tr th {\n",
       "        vertical-align: top;\n",
       "    }\n",
       "\n",
       "    .dataframe thead th {\n",
       "        text-align: right;\n",
       "    }\n",
       "</style>\n",
       "<table border=\"1\" class=\"dataframe\">\n",
       "  <thead>\n",
       "    <tr style=\"text-align: right;\">\n",
       "      <th></th>\n",
       "      <th>Time:512Hz</th>\n",
       "      <th>Epoch</th>\n",
       "      <th>Electrode</th>\n",
       "      <th>Attention</th>\n",
       "      <th>Meditation</th>\n",
       "      <th>Delta</th>\n",
       "      <th>Theta</th>\n",
       "      <th>Low Alpha</th>\n",
       "      <th>High Alpha</th>\n",
       "      <th>Low Beta</th>\n",
       "      <th>High Beta</th>\n",
       "      <th>Low Gamma</th>\n",
       "      <th>Mid Gamma</th>\n",
       "      <th>Event Id</th>\n",
       "      <th>Event Date</th>\n",
       "    </tr>\n",
       "  </thead>\n",
       "  <tbody>\n",
       "    <tr>\n",
       "      <td>0</td>\n",
       "      <td>0.000000</td>\n",
       "      <td>0</td>\n",
       "      <td>36.0</td>\n",
       "      <td>26.0</td>\n",
       "      <td>74.0</td>\n",
       "      <td>1434788.0</td>\n",
       "      <td>238670.0</td>\n",
       "      <td>45000.0</td>\n",
       "      <td>196656.0</td>\n",
       "      <td>73717.0</td>\n",
       "      <td>19313.0</td>\n",
       "      <td>16411.0</td>\n",
       "      <td>26864.0</td>\n",
       "      <td>0.0</td>\n",
       "      <td>0.0</td>\n",
       "    </tr>\n",
       "    <tr>\n",
       "      <td>1</td>\n",
       "      <td>0.001953</td>\n",
       "      <td>0</td>\n",
       "      <td>44.0</td>\n",
       "      <td>26.0</td>\n",
       "      <td>74.0</td>\n",
       "      <td>1434788.0</td>\n",
       "      <td>238670.0</td>\n",
       "      <td>45000.0</td>\n",
       "      <td>196656.0</td>\n",
       "      <td>73717.0</td>\n",
       "      <td>19313.0</td>\n",
       "      <td>16411.0</td>\n",
       "      <td>26864.0</td>\n",
       "      <td>0.0</td>\n",
       "      <td>0.0</td>\n",
       "    </tr>\n",
       "    <tr>\n",
       "      <td>2</td>\n",
       "      <td>0.003906</td>\n",
       "      <td>0</td>\n",
       "      <td>87.0</td>\n",
       "      <td>26.0</td>\n",
       "      <td>74.0</td>\n",
       "      <td>1434788.0</td>\n",
       "      <td>238670.0</td>\n",
       "      <td>45000.0</td>\n",
       "      <td>196656.0</td>\n",
       "      <td>73717.0</td>\n",
       "      <td>19313.0</td>\n",
       "      <td>16411.0</td>\n",
       "      <td>26864.0</td>\n",
       "      <td>0.0</td>\n",
       "      <td>0.0</td>\n",
       "    </tr>\n",
       "    <tr>\n",
       "      <td>3</td>\n",
       "      <td>0.005859</td>\n",
       "      <td>0</td>\n",
       "      <td>58.0</td>\n",
       "      <td>26.0</td>\n",
       "      <td>74.0</td>\n",
       "      <td>1434788.0</td>\n",
       "      <td>238670.0</td>\n",
       "      <td>45000.0</td>\n",
       "      <td>196656.0</td>\n",
       "      <td>73717.0</td>\n",
       "      <td>19313.0</td>\n",
       "      <td>16411.0</td>\n",
       "      <td>26864.0</td>\n",
       "      <td>0.0</td>\n",
       "      <td>0.0</td>\n",
       "    </tr>\n",
       "    <tr>\n",
       "      <td>4</td>\n",
       "      <td>0.007812</td>\n",
       "      <td>0</td>\n",
       "      <td>10.0</td>\n",
       "      <td>26.0</td>\n",
       "      <td>74.0</td>\n",
       "      <td>1434788.0</td>\n",
       "      <td>238670.0</td>\n",
       "      <td>45000.0</td>\n",
       "      <td>196656.0</td>\n",
       "      <td>73717.0</td>\n",
       "      <td>19313.0</td>\n",
       "      <td>16411.0</td>\n",
       "      <td>26864.0</td>\n",
       "      <td>0.0</td>\n",
       "      <td>0.0</td>\n",
       "    </tr>\n",
       "  </tbody>\n",
       "</table>\n",
       "</div>"
      ],
      "text/plain": [
       "   Time:512Hz  Epoch  Electrode  Attention  Meditation      Delta     Theta  \\\n",
       "0    0.000000      0       36.0       26.0        74.0  1434788.0  238670.0   \n",
       "1    0.001953      0       44.0       26.0        74.0  1434788.0  238670.0   \n",
       "2    0.003906      0       87.0       26.0        74.0  1434788.0  238670.0   \n",
       "3    0.005859      0       58.0       26.0        74.0  1434788.0  238670.0   \n",
       "4    0.007812      0       10.0       26.0        74.0  1434788.0  238670.0   \n",
       "\n",
       "   Low Alpha  High Alpha  Low Beta  High Beta  Low Gamma  Mid Gamma  Event Id  \\\n",
       "0    45000.0    196656.0   73717.0    19313.0    16411.0    26864.0       0.0   \n",
       "1    45000.0    196656.0   73717.0    19313.0    16411.0    26864.0       0.0   \n",
       "2    45000.0    196656.0   73717.0    19313.0    16411.0    26864.0       0.0   \n",
       "3    45000.0    196656.0   73717.0    19313.0    16411.0    26864.0       0.0   \n",
       "4    45000.0    196656.0   73717.0    19313.0    16411.0    26864.0       0.0   \n",
       "\n",
       "   Event Date  \n",
       "0         0.0  \n",
       "1         0.0  \n",
       "2         0.0  \n",
       "3         0.0  \n",
       "4         0.0  "
      ]
     },
     "execution_count": 235,
     "metadata": {},
     "output_type": "execute_result"
    }
   ],
   "source": [
    "cece_trial.head()"
   ]
  },
  {
   "cell_type": "code",
   "execution_count": 226,
   "metadata": {},
   "outputs": [
    {
     "data": {
      "text/html": [
       "<div>\n",
       "<style scoped>\n",
       "    .dataframe tbody tr th:only-of-type {\n",
       "        vertical-align: middle;\n",
       "    }\n",
       "\n",
       "    .dataframe tbody tr th {\n",
       "        vertical-align: top;\n",
       "    }\n",
       "\n",
       "    .dataframe thead th {\n",
       "        text-align: right;\n",
       "    }\n",
       "</style>\n",
       "<table border=\"1\" class=\"dataframe\">\n",
       "  <thead>\n",
       "    <tr style=\"text-align: right;\">\n",
       "      <th></th>\n",
       "      <th>Time:512Hz</th>\n",
       "      <th>Epoch</th>\n",
       "      <th>Electrode</th>\n",
       "      <th>Attention</th>\n",
       "      <th>Meditation</th>\n",
       "      <th>Delta</th>\n",
       "      <th>Theta</th>\n",
       "      <th>Low Alpha</th>\n",
       "      <th>High Alpha</th>\n",
       "      <th>Low Beta</th>\n",
       "      <th>High Beta</th>\n",
       "      <th>Low Gamma</th>\n",
       "      <th>Mid Gamma</th>\n",
       "      <th>Event Id</th>\n",
       "      <th>Event Date</th>\n",
       "    </tr>\n",
       "  </thead>\n",
       "  <tbody>\n",
       "    <tr>\n",
       "      <td>23135</td>\n",
       "      <td>49.625</td>\n",
       "      <td>723</td>\n",
       "      <td>43.0</td>\n",
       "      <td>60.0</td>\n",
       "      <td>77.0</td>\n",
       "      <td>831923.0</td>\n",
       "      <td>61359.0</td>\n",
       "      <td>14862.0</td>\n",
       "      <td>5192.0</td>\n",
       "      <td>3921.0</td>\n",
       "      <td>4290.0</td>\n",
       "      <td>3395.0</td>\n",
       "      <td>1645.0</td>\n",
       "      <td>33027.0</td>\n",
       "      <td>49.625</td>\n",
       "    </tr>\n",
       "    <tr>\n",
       "      <td>27167</td>\n",
       "      <td>57.500</td>\n",
       "      <td>849</td>\n",
       "      <td>71.0</td>\n",
       "      <td>37.0</td>\n",
       "      <td>63.0</td>\n",
       "      <td>900981.0</td>\n",
       "      <td>63149.0</td>\n",
       "      <td>18119.0</td>\n",
       "      <td>11465.0</td>\n",
       "      <td>3773.0</td>\n",
       "      <td>2018.0</td>\n",
       "      <td>791.0</td>\n",
       "      <td>482.0</td>\n",
       "      <td>33027.0</td>\n",
       "      <td>57.500</td>\n",
       "    </tr>\n",
       "  </tbody>\n",
       "</table>\n",
       "</div>"
      ],
      "text/plain": [
       "       Time:512Hz  Epoch  Electrode  Attention  Meditation     Delta    Theta  \\\n",
       "23135      49.625    723       43.0       60.0        77.0  831923.0  61359.0   \n",
       "27167      57.500    849       71.0       37.0        63.0  900981.0  63149.0   \n",
       "\n",
       "       Low Alpha  High Alpha  Low Beta  High Beta  Low Gamma  Mid Gamma  \\\n",
       "23135    14862.0      5192.0    3921.0     4290.0     3395.0     1645.0   \n",
       "27167    18119.0     11465.0    3773.0     2018.0      791.0      482.0   \n",
       "\n",
       "       Event Id  Event Date  \n",
       "23135   33027.0      49.625  \n",
       "27167   33027.0      57.500  "
      ]
     },
     "execution_count": 226,
     "metadata": {},
     "output_type": "execute_result"
    }
   ],
   "source": [
    "cece_trial.loc[cece_trial['Event Id'] == 33027]"
   ]
  },
  {
   "cell_type": "code",
   "execution_count": null,
   "metadata": {},
   "outputs": [],
   "source": []
  },
  {
   "cell_type": "code",
   "execution_count": 211,
   "metadata": {},
   "outputs": [],
   "source": []
  },
  {
   "cell_type": "code",
   "execution_count": null,
   "metadata": {},
   "outputs": [],
   "source": []
  },
  {
   "cell_type": "code",
   "execution_count": null,
   "metadata": {},
   "outputs": [],
   "source": []
  },
  {
   "cell_type": "code",
   "execution_count": null,
   "metadata": {},
   "outputs": [],
   "source": []
  },
  {
   "cell_type": "code",
   "execution_count": null,
   "metadata": {},
   "outputs": [],
   "source": []
  },
  {
   "cell_type": "code",
   "execution_count": null,
   "metadata": {},
   "outputs": [],
   "source": []
  },
  {
   "cell_type": "code",
   "execution_count": null,
   "metadata": {
    "scrolled": true
   },
   "outputs": [],
   "source": []
  },
  {
   "cell_type": "code",
   "execution_count": null,
   "metadata": {},
   "outputs": [],
   "source": []
  },
  {
   "cell_type": "code",
   "execution_count": 63,
   "metadata": {},
   "outputs": [],
   "source": []
  },
  {
   "cell_type": "code",
   "execution_count": null,
   "metadata": {},
   "outputs": [],
   "source": []
  },
  {
   "cell_type": "code",
   "execution_count": null,
   "metadata": {},
   "outputs": [],
   "source": []
  },
  {
   "cell_type": "code",
   "execution_count": null,
   "metadata": {},
   "outputs": [],
   "source": []
  }
 ],
 "metadata": {
  "kernelspec": {
   "display_name": "Python 3",
   "language": "python",
   "name": "python3"
  },
  "language_info": {
   "codemirror_mode": {
    "name": "ipython",
    "version": 3
   },
   "file_extension": ".py",
   "mimetype": "text/x-python",
   "name": "python",
   "nbconvert_exporter": "python",
   "pygments_lexer": "ipython3",
   "version": "3.7.1"
  }
 },
 "nbformat": 4,
 "nbformat_minor": 2
}
