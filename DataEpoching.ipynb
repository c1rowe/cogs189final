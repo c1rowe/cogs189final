{
 "cells": [
  {
   "cell_type": "markdown",
   "metadata": {},
   "source": [
    "## GroupWithNoName EEG Data Processing"
   ]
  },
  {
   "cell_type": "markdown",
   "metadata": {},
   "source": [
    "### Event Codes\n",
    "33024 - Universal for key release <br>\n",
    "33025 - a (start) key press <br>\n",
    "33027 - e (waldo found) key press"
   ]
  },
  {
   "cell_type": "markdown",
   "metadata": {},
   "source": [
    "### Imports"
   ]
  },
  {
   "cell_type": "code",
   "execution_count": 265,
   "metadata": {},
   "outputs": [],
   "source": [
    "import pandas as pd\n",
    "import numpy as np\n",
    "import os\n",
    "from os import listdir\n",
    "from os.path import isfile, join, isdir"
   ]
  },
  {
   "cell_type": "markdown",
   "metadata": {},
   "source": [
    "### Known Variables"
   ]
  },
  {
   "cell_type": "code",
   "execution_count": 290,
   "metadata": {},
   "outputs": [],
   "source": [
    "sampling_rate = 512.0"
   ]
  },
  {
   "cell_type": "markdown",
   "metadata": {},
   "source": [
    "### Helper Functions"
   ]
  },
  {
   "cell_type": "code",
   "execution_count": 296,
   "metadata": {},
   "outputs": [],
   "source": [
    "def generate_epoch(train_data, channels, fs, eeg_filter, stimulus_times = None, baseline = True,  epoch_s = -200, epoch_e = 1300, bl_s = -400, bl_e = -300):\n",
    "    \n",
    "    \"\"\"\n",
    "    :description: Generating epoch given csv file. Make sure the csv file layout meets the requirement.\n",
    "        It should contain 'Time' column that represents timepoints, and the time should start from 0.\n",
    "        If your csv file does not have FeedBackEvent indicating the stimulus, you must pass stumulus_times.\n",
    "        Here we used a butter bandpass filter, but you can change to your favorite one.\n",
    "    :train_data (Pandas df): data to epoch\n",
    "    :channels ([String]): array of channels to epoch\n",
    "    :fs (float): sampling rate\n",
    "    :eeg_filter (function): the filter you want to apply to raw eeg data\n",
    "    :stimulus_times ([float], optional): The time points that stimulus occur\n",
    "    :baseline (boolean, optional): whether you want to apply baseline correction after epoching\n",
    "    :epoch_s (int, optional): epoch starting time relative to stmulus in miliseconds\n",
    "    :epoch_e (int, optional): epoch ending time relative to stmulus in miliseconds\n",
    "    :bl_s (int, optional): baseline starting time relative to stmulus in miliseconds\n",
    "    :bl_e (int, optional): baseline ending time relative to stmulus in miliseconds\n",
    "    :rtype (3d-nparray): epoched data with dimension (stimulus_per_subj, number_of_channels, number_of_time_points)\n",
    "    \"\"\"\n",
    "\n",
    "\n",
    "    train_data.loc[:,'Time'] = train_data.loc[:,'Time']*1000\n",
    "    raw_eeg  = train_data[channels].values.T\n",
    "\n",
    "    time_df = train_data['Time'].values\n",
    "    train_data['index'] = train_data.index.values\n",
    "    if stimulus_times is None:\n",
    "        mark_indices = np.asarray(train_data[train_data['FeedBackEvent']==1].index).flatten()\n",
    "    else:\n",
    "        mark_indices = np.round(np.asarray(stimulus_times).flatten() * fs).astype(int)\n",
    "        \n",
    "    # Define the bounds of our epoch as well as our baseline\n",
    "    b_s = int((abs(epoch_s) + bl_s) * (fs / 1000)) # index in epoch_df where our baseline begins\n",
    "    b_e = int((abs(epoch_s) + bl_e) * (fs / 1000)) # index in epoch_df where our baseline ends\n",
    "    # Let's calculate the length our epoch with our given sampling rate\n",
    "    epoch_len = int((abs(epoch_s) + abs(epoch_e)) * (fs / 1000))\n",
    "\n",
    "    # Let's define some helpful variables to make our extraction easier\n",
    "    e_s = int((epoch_s * (fs / 1000))) # effectively the number of indices before marker we want\n",
    "    e_e = int((epoch_e * (fs / 1000))) # effectively the number of indices after marker we want\n",
    "\n",
    "    # Epoch the data\n",
    "    final_epoch = np.empty((mark_indices.shape[0], epoch_len, 0), float)\n",
    "    for channel in channels:\n",
    "        epoch = np.zeros(shape = (int(mark_indices.shape[0]), epoch_len))\n",
    "        raw_eeg = train_data[channel].values\n",
    "\n",
    "        ################# You may want to apply your own filter ################\n",
    "        clean_eeg = raw_eeg #eeg_filter(raw_eeg, fs, 1.0, 40.0, 5)\n",
    "        ########################################################################\n",
    "\n",
    "        for i, mark_idx in enumerate(mark_indices):\n",
    "            epoch[i, :] = clean_eeg[mark_idx + e_s : mark_idx + e_e+1] # grab the appropriate samples around the stimulus onset\n",
    "\n",
    "        # Baseline correction\n",
    "        if baseline:\n",
    "            for i in range(0, int(epoch.shape[0])):\n",
    "                epoch[i, :] = epoch[i, :] - np.mean(epoch[i, b_s:b_e])\n",
    "\n",
    "        # stack epoch of each channel\n",
    "        final_epoch = np.dstack((final_epoch, epoch))\n",
    "    final_epoch = np.swapaxes(final_epoch, 1, 2)\n",
    "    return final_epoch"
   ]
  },
  {
   "cell_type": "code",
   "execution_count": 256,
   "metadata": {},
   "outputs": [],
   "source": [
    "#\n",
    "# Cleans a given raw openvibe dataframe\n",
    "#\n",
    "def clean_trial(trial):\n",
    "    \n",
    "    #drop unwanted columns\n",
    "    trial = trial.drop(columns=['Event Duration'])\n",
    "    trial = trial.drop(columns=['Event Date'])\n",
    "    trial = trial.drop(columns=['Electrode'])\n",
    "    \n",
    "    #remove nans and key releases\n",
    "    trial.loc[trial['Event Id'] == 33024,  'Event Id'] = 0\n",
    "    trial.loc[trial['Event Id'].isnull(),  'Event Id'] = 0\n",
    "    \n",
    "    #shift df to start on start key press\n",
    "    start_index = trial.index[trial['Event Id'] == 33025]\n",
    "    trial = trial[(start_index[0]+1):].reset_index()\n",
    "    trial = trial.drop(columns=['index'])\n",
    "    \n",
    "    #reset epoch to begin at 0/drop epoch column\n",
    "    trial = trial.drop(columns=['Epoch'])\n",
    "    #trial['Epoch']-=trial['Epoch'][0]\n",
    "    \n",
    "    #reset time to begin at 0\n",
    "    trial['Time:512Hz']-=trial['Time:512Hz'][0]\n",
    "    \n",
    "    #set found waldo id 1\n",
    "    trial.loc[trial['Event Id'] == 33027,  'Event Id'] = 1\n",
    "    \n",
    "    #rename columns as needed\n",
    "    trial = trial.rename(columns={\"Time:512Hz\": \"Time\", \"Event Id\": \"FeedBackEvent\"})\n",
    "    \n",
    "    return trial"
   ]
  },
  {
   "cell_type": "code",
   "execution_count": 257,
   "metadata": {},
   "outputs": [],
   "source": [
    "#\n",
    "# Reads and cleans the csv file at the given filepath\n",
    "#\n",
    "def processcsv(filename):\n",
    "    raw = pd.read_csv('cece_trial.csv')\n",
    "    clean = clean_trial(raw)\n",
    "    return clean"
   ]
  },
  {
   "cell_type": "code",
   "execution_count": 287,
   "metadata": {},
   "outputs": [],
   "source": [
    "def getchannels(trial):\n",
    "    chnls = trial.columns.tolist()\n",
    "    return chnls[1:11]"
   ]
  },
  {
   "cell_type": "code",
   "execution_count": 293,
   "metadata": {},
   "outputs": [],
   "source": [
    "def custom_filter(trial):\n",
    "    print(\"Filter not implemented yet\")"
   ]
  },
  {
   "cell_type": "markdown",
   "metadata": {},
   "source": [
    "### Testing"
   ]
  },
  {
   "cell_type": "code",
   "execution_count": 263,
   "metadata": {},
   "outputs": [],
   "source": [
    "#read cece's trial\n",
    "cece_trial = processcsv('cece_trial.csv')"
   ]
  },
  {
   "cell_type": "code",
   "execution_count": 264,
   "metadata": {},
   "outputs": [
    {
     "data": {
      "text/html": [
       "<div>\n",
       "<style scoped>\n",
       "    .dataframe tbody tr th:only-of-type {\n",
       "        vertical-align: middle;\n",
       "    }\n",
       "\n",
       "    .dataframe tbody tr th {\n",
       "        vertical-align: top;\n",
       "    }\n",
       "\n",
       "    .dataframe thead th {\n",
       "        text-align: right;\n",
       "    }\n",
       "</style>\n",
       "<table border=\"1\" class=\"dataframe\">\n",
       "  <thead>\n",
       "    <tr style=\"text-align: right;\">\n",
       "      <th></th>\n",
       "      <th>Time</th>\n",
       "      <th>Attention</th>\n",
       "      <th>Meditation</th>\n",
       "      <th>Delta</th>\n",
       "      <th>Theta</th>\n",
       "      <th>Low Alpha</th>\n",
       "      <th>High Alpha</th>\n",
       "      <th>Low Beta</th>\n",
       "      <th>High Beta</th>\n",
       "      <th>Low Gamma</th>\n",
       "      <th>Mid Gamma</th>\n",
       "      <th>FeedBackEvent</th>\n",
       "    </tr>\n",
       "  </thead>\n",
       "  <tbody>\n",
       "    <tr>\n",
       "      <td>0</td>\n",
       "      <td>0.000000</td>\n",
       "      <td>26.0</td>\n",
       "      <td>74.0</td>\n",
       "      <td>1434788.0</td>\n",
       "      <td>238670.0</td>\n",
       "      <td>45000.0</td>\n",
       "      <td>196656.0</td>\n",
       "      <td>73717.0</td>\n",
       "      <td>19313.0</td>\n",
       "      <td>16411.0</td>\n",
       "      <td>26864.0</td>\n",
       "      <td>0.0</td>\n",
       "    </tr>\n",
       "    <tr>\n",
       "      <td>1</td>\n",
       "      <td>0.001953</td>\n",
       "      <td>26.0</td>\n",
       "      <td>74.0</td>\n",
       "      <td>1434788.0</td>\n",
       "      <td>238670.0</td>\n",
       "      <td>45000.0</td>\n",
       "      <td>196656.0</td>\n",
       "      <td>73717.0</td>\n",
       "      <td>19313.0</td>\n",
       "      <td>16411.0</td>\n",
       "      <td>26864.0</td>\n",
       "      <td>0.0</td>\n",
       "    </tr>\n",
       "    <tr>\n",
       "      <td>2</td>\n",
       "      <td>0.003906</td>\n",
       "      <td>26.0</td>\n",
       "      <td>74.0</td>\n",
       "      <td>1434788.0</td>\n",
       "      <td>238670.0</td>\n",
       "      <td>45000.0</td>\n",
       "      <td>196656.0</td>\n",
       "      <td>73717.0</td>\n",
       "      <td>19313.0</td>\n",
       "      <td>16411.0</td>\n",
       "      <td>26864.0</td>\n",
       "      <td>0.0</td>\n",
       "    </tr>\n",
       "    <tr>\n",
       "      <td>3</td>\n",
       "      <td>0.005859</td>\n",
       "      <td>26.0</td>\n",
       "      <td>74.0</td>\n",
       "      <td>1434788.0</td>\n",
       "      <td>238670.0</td>\n",
       "      <td>45000.0</td>\n",
       "      <td>196656.0</td>\n",
       "      <td>73717.0</td>\n",
       "      <td>19313.0</td>\n",
       "      <td>16411.0</td>\n",
       "      <td>26864.0</td>\n",
       "      <td>0.0</td>\n",
       "    </tr>\n",
       "    <tr>\n",
       "      <td>4</td>\n",
       "      <td>0.007812</td>\n",
       "      <td>26.0</td>\n",
       "      <td>74.0</td>\n",
       "      <td>1434788.0</td>\n",
       "      <td>238670.0</td>\n",
       "      <td>45000.0</td>\n",
       "      <td>196656.0</td>\n",
       "      <td>73717.0</td>\n",
       "      <td>19313.0</td>\n",
       "      <td>16411.0</td>\n",
       "      <td>26864.0</td>\n",
       "      <td>0.0</td>\n",
       "    </tr>\n",
       "  </tbody>\n",
       "</table>\n",
       "</div>"
      ],
      "text/plain": [
       "       Time  Attention  Meditation      Delta     Theta  Low Alpha  \\\n",
       "0  0.000000       26.0        74.0  1434788.0  238670.0    45000.0   \n",
       "1  0.001953       26.0        74.0  1434788.0  238670.0    45000.0   \n",
       "2  0.003906       26.0        74.0  1434788.0  238670.0    45000.0   \n",
       "3  0.005859       26.0        74.0  1434788.0  238670.0    45000.0   \n",
       "4  0.007812       26.0        74.0  1434788.0  238670.0    45000.0   \n",
       "\n",
       "   High Alpha  Low Beta  High Beta  Low Gamma  Mid Gamma  FeedBackEvent  \n",
       "0    196656.0   73717.0    19313.0    16411.0    26864.0            0.0  \n",
       "1    196656.0   73717.0    19313.0    16411.0    26864.0            0.0  \n",
       "2    196656.0   73717.0    19313.0    16411.0    26864.0            0.0  \n",
       "3    196656.0   73717.0    19313.0    16411.0    26864.0            0.0  \n",
       "4    196656.0   73717.0    19313.0    16411.0    26864.0            0.0  "
      ]
     },
     "execution_count": 264,
     "metadata": {},
     "output_type": "execute_result"
    }
   ],
   "source": [
    "cece_trial.head()"
   ]
  },
  {
   "cell_type": "code",
   "execution_count": 295,
   "metadata": {},
   "outputs": [
    {
     "data": {
      "text/plain": [
       "(31519, 13)"
      ]
     },
     "execution_count": 295,
     "metadata": {},
     "output_type": "execute_result"
    }
   ],
   "source": [
    "cece_trial.shape"
   ]
  },
  {
   "cell_type": "code",
   "execution_count": 262,
   "metadata": {},
   "outputs": [
    {
     "data": {
      "text/html": [
       "<div>\n",
       "<style scoped>\n",
       "    .dataframe tbody tr th:only-of-type {\n",
       "        vertical-align: middle;\n",
       "    }\n",
       "\n",
       "    .dataframe tbody tr th {\n",
       "        vertical-align: top;\n",
       "    }\n",
       "\n",
       "    .dataframe thead th {\n",
       "        text-align: right;\n",
       "    }\n",
       "</style>\n",
       "<table border=\"1\" class=\"dataframe\">\n",
       "  <thead>\n",
       "    <tr style=\"text-align: right;\">\n",
       "      <th></th>\n",
       "      <th>Time</th>\n",
       "      <th>Attention</th>\n",
       "      <th>Meditation</th>\n",
       "      <th>Delta</th>\n",
       "      <th>Theta</th>\n",
       "      <th>Low Alpha</th>\n",
       "      <th>High Alpha</th>\n",
       "      <th>Low Beta</th>\n",
       "      <th>High Beta</th>\n",
       "      <th>Low Gamma</th>\n",
       "      <th>Mid Gamma</th>\n",
       "      <th>FeedBackEvent</th>\n",
       "    </tr>\n",
       "  </thead>\n",
       "  <tbody>\n",
       "    <tr>\n",
       "      <td>23135</td>\n",
       "      <td>45.185547</td>\n",
       "      <td>60.0</td>\n",
       "      <td>77.0</td>\n",
       "      <td>831923.0</td>\n",
       "      <td>61359.0</td>\n",
       "      <td>14862.0</td>\n",
       "      <td>5192.0</td>\n",
       "      <td>3921.0</td>\n",
       "      <td>4290.0</td>\n",
       "      <td>3395.0</td>\n",
       "      <td>1645.0</td>\n",
       "      <td>1.0</td>\n",
       "    </tr>\n",
       "    <tr>\n",
       "      <td>27167</td>\n",
       "      <td>53.060547</td>\n",
       "      <td>37.0</td>\n",
       "      <td>63.0</td>\n",
       "      <td>900981.0</td>\n",
       "      <td>63149.0</td>\n",
       "      <td>18119.0</td>\n",
       "      <td>11465.0</td>\n",
       "      <td>3773.0</td>\n",
       "      <td>2018.0</td>\n",
       "      <td>791.0</td>\n",
       "      <td>482.0</td>\n",
       "      <td>1.0</td>\n",
       "    </tr>\n",
       "  </tbody>\n",
       "</table>\n",
       "</div>"
      ],
      "text/plain": [
       "            Time  Attention  Meditation     Delta    Theta  Low Alpha  \\\n",
       "23135  45.185547       60.0        77.0  831923.0  61359.0    14862.0   \n",
       "27167  53.060547       37.0        63.0  900981.0  63149.0    18119.0   \n",
       "\n",
       "       High Alpha  Low Beta  High Beta  Low Gamma  Mid Gamma  FeedBackEvent  \n",
       "23135      5192.0    3921.0     4290.0     3395.0     1645.0            1.0  \n",
       "27167     11465.0    3773.0     2018.0      791.0      482.0            1.0  "
      ]
     },
     "execution_count": 262,
     "metadata": {},
     "output_type": "execute_result"
    }
   ],
   "source": [
    "cece_trial.loc[cece_trial['FeedBackEvent'] == 1]"
   ]
  },
  {
   "cell_type": "code",
   "execution_count": 288,
   "metadata": {},
   "outputs": [],
   "source": [
    "channels = getchannels(cece_trial)"
   ]
  },
  {
   "cell_type": "code",
   "execution_count": 298,
   "metadata": {},
   "outputs": [],
   "source": [
    "epoch = generate_epoch(cece_trial, channels, sampling_rate, custom_filter)"
   ]
  },
  {
   "cell_type": "code",
   "execution_count": 325,
   "metadata": {},
   "outputs": [
    {
     "data": {
      "text/plain": [
       "array([0., 0., 0., 0., 0., 0., 0., 0., 0., 0., 0., 0., 0., 0., 0., 0., 0.,\n",
       "       0., 0., 0., 0., 0., 0., 0., 0., 0., 0., 0., 0., 0., 0., 0., 0., 0.,\n",
       "       0., 0., 0., 0., 0., 0., 0., 0., 0., 0., 0., 0., 0., 0., 0., 0., 0.,\n",
       "       0., 0., 0., 0., 0., 0., 0., 0., 0., 0., 0., 0., 0., 0., 0., 0., 0.,\n",
       "       0., 0., 0., 0., 0., 0., 0., 0., 0., 0., 0., 0., 0., 0., 0., 0., 0.,\n",
       "       0., 0., 0., 0., 0., 0., 0., 0., 0., 0., 0., 0., 0., 0., 0., 0., 0.,\n",
       "       0., 0., 0., 0., 0., 0., 0., 0., 0., 0., 0., 0., 0., 0., 0., 0., 0.,\n",
       "       0., 0., 0., 0., 0., 0., 0., 0., 0., 0., 0., 0., 0., 0., 0., 0., 0.,\n",
       "       0., 0., 0., 0., 0., 0., 0., 0., 0., 0., 0., 0., 0., 0., 0., 0., 0.,\n",
       "       0., 0., 0., 0., 0., 0., 0., 0., 0., 0., 0., 0., 0., 0., 0., 0., 0.,\n",
       "       0., 0., 0., 0., 0., 0., 0., 0., 0., 0., 0., 0., 0., 0., 0., 0., 0.,\n",
       "       0., 0., 0., 0., 0., 0., 0., 0., 0., 0., 0., 0., 0., 0., 0., 0., 0.,\n",
       "       0., 0., 0., 0., 0., 0., 0., 0., 0., 0., 0., 0., 0., 0., 0., 0., 0.,\n",
       "       0., 0., 0., 0., 0., 0., 0., 0., 0., 0., 0., 0., 0., 0., 0., 0., 0.,\n",
       "       0., 0., 0., 0., 0., 0., 0., 0., 0., 0., 0., 0., 0., 0., 0., 0., 0.,\n",
       "       0., 0., 0., 0., 0., 0., 0., 0., 0., 0., 0., 0., 0., 0., 0., 0., 0.,\n",
       "       0., 0., 0., 0., 0., 0., 0., 0., 0., 0., 0., 0., 0., 0., 0., 0., 0.,\n",
       "       0., 0., 0., 0., 0., 0., 0., 0., 0., 0., 0., 0., 0., 0., 0., 0., 0.,\n",
       "       0., 0., 0., 0., 0., 0., 0., 0., 0., 0., 0., 0., 0., 0., 0., 0., 0.,\n",
       "       0., 0., 0., 0., 0., 0., 0., 0., 0., 0., 0., 0., 0., 0., 0., 0., 0.,\n",
       "       0., 0., 0., 0., 0., 0., 0., 0., 0., 0., 0., 0., 0., 0., 0., 0., 0.,\n",
       "       0., 0., 0., 0., 0., 0., 0., 0., 0., 0., 0., 0., 0., 0., 0., 0., 0.,\n",
       "       0., 0., 0., 0., 0., 0., 0., 0., 0., 0., 0., 0., 0., 0., 0., 0., 0.,\n",
       "       0., 0., 0., 0., 0., 0., 0., 0., 0., 0., 0., 0., 0., 0., 0., 0., 0.,\n",
       "       0., 0., 0., 0., 0., 0., 0., 0., 0., 0., 0., 0., 0., 0., 0., 0., 0.,\n",
       "       0., 0., 0., 0., 0., 0., 0., 0., 0., 0., 0., 0., 0., 0., 0., 0., 0.,\n",
       "       0., 0., 0., 0., 0., 0., 0., 0., 0., 0., 0., 0., 0., 0., 0., 0., 0.,\n",
       "       0., 0., 0., 0., 0., 0., 0., 0., 0., 0., 0., 0., 0., 0., 0., 0., 0.,\n",
       "       0., 0., 0., 0., 0., 0., 0., 0., 0., 0., 0., 0., 0., 0., 0., 0., 0.,\n",
       "       0., 0., 0., 0., 0., 0., 0., 0., 0., 0., 0., 0., 0., 0., 0., 0., 0.,\n",
       "       0., 0., 0., 0., 0., 0., 0., 0., 0., 0., 0., 0., 0., 0., 0., 0., 0.,\n",
       "       0., 0., 0., 0., 0., 0., 0., 0., 0., 0., 0., 0., 0., 0., 0., 0., 0.,\n",
       "       0., 0., 0., 0., 0., 0., 0., 0., 0., 0., 0., 0., 0., 0., 0., 0., 0.,\n",
       "       0., 0., 0., 0., 0., 0., 0., 0., 0., 0., 0., 0., 0., 0., 0., 0., 0.,\n",
       "       0., 0., 0., 0., 0., 0., 0., 0., 0., 0., 0., 0., 0., 0., 0., 0., 0.,\n",
       "       0., 0., 0., 0., 0., 0., 0., 0., 0., 0., 0., 0., 0., 0., 0., 0., 0.,\n",
       "       0., 0., 0., 0., 0., 0., 0., 0., 0., 0., 0., 0., 0., 0., 0., 0., 0.,\n",
       "       0., 0., 0., 0., 0., 0., 0., 0., 0., 0., 0., 0., 0., 0., 0., 0., 0.,\n",
       "       0., 0., 0., 0., 0., 0., 0., 0., 0., 0., 0., 0., 0., 0., 0., 0., 0.,\n",
       "       0., 0., 0., 0., 0., 0., 0., 0., 0., 0., 0., 0., 0., 0., 0., 0., 0.,\n",
       "       0., 0., 0., 0., 0., 0., 0., 0., 0., 0., 0., 0., 0., 0., 0., 0., 0.,\n",
       "       0., 0., 0., 0., 0., 0., 0., 0., 0., 0., 0., 0., 0., 0., 0., 0., 0.,\n",
       "       0., 0., 0., 0., 0., 0., 0., 0., 0., 0., 0., 0., 0., 0., 0., 0., 0.,\n",
       "       0., 0., 0., 0., 0., 0., 0., 0., 0., 0., 0., 0., 0., 0., 0., 0., 0.,\n",
       "       0., 0., 0., 0., 0., 0., 0., 0., 0., 0., 0., 0., 0., 0., 0., 0., 0.,\n",
       "       0., 0., 0.])"
      ]
     },
     "execution_count": 325,
     "metadata": {},
     "output_type": "execute_result"
    }
   ],
   "source": [
    "epoch[1][0]"
   ]
  },
  {
   "cell_type": "code",
   "execution_count": 211,
   "metadata": {},
   "outputs": [],
   "source": []
  },
  {
   "cell_type": "code",
   "execution_count": null,
   "metadata": {},
   "outputs": [],
   "source": []
  },
  {
   "cell_type": "code",
   "execution_count": null,
   "metadata": {},
   "outputs": [],
   "source": []
  },
  {
   "cell_type": "code",
   "execution_count": null,
   "metadata": {},
   "outputs": [],
   "source": []
  },
  {
   "cell_type": "code",
   "execution_count": null,
   "metadata": {},
   "outputs": [],
   "source": []
  },
  {
   "cell_type": "code",
   "execution_count": null,
   "metadata": {},
   "outputs": [],
   "source": []
  },
  {
   "cell_type": "code",
   "execution_count": null,
   "metadata": {
    "scrolled": true
   },
   "outputs": [],
   "source": []
  },
  {
   "cell_type": "code",
   "execution_count": null,
   "metadata": {},
   "outputs": [],
   "source": []
  },
  {
   "cell_type": "code",
   "execution_count": 63,
   "metadata": {},
   "outputs": [],
   "source": []
  },
  {
   "cell_type": "code",
   "execution_count": null,
   "metadata": {},
   "outputs": [],
   "source": []
  },
  {
   "cell_type": "code",
   "execution_count": null,
   "metadata": {},
   "outputs": [],
   "source": []
  },
  {
   "cell_type": "code",
   "execution_count": null,
   "metadata": {},
   "outputs": [],
   "source": []
  }
 ],
 "metadata": {
  "kernelspec": {
   "display_name": "Python 3",
   "language": "python",
   "name": "python3"
  },
  "language_info": {
   "codemirror_mode": {
    "name": "ipython",
    "version": 3
   },
   "file_extension": ".py",
   "mimetype": "text/x-python",
   "name": "python",
   "nbconvert_exporter": "python",
   "pygments_lexer": "ipython3",
   "version": "3.7.4"
  }
 },
 "nbformat": 4,
 "nbformat_minor": 2
}
